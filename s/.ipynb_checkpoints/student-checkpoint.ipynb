{
 "cells": [
  {
   "cell_type": "markdown",
   "id": "642a72cb",
   "metadata": {},
   "source": [
    "Students performance in exams\n",
    "Marks secured by the students in college\n",
    "Aim\n",
    "To understand the influence of various factors like economic, personal and social on the students performance\n",
    "Inferences would be :\n",
    "1. How to imporve the students performance in each test ?\n",
    "2. What are the major factors influencing the test scores ?\n",
    "3. Effectiveness of test preparation course?\n",
    "4. Other inferences\n",
    "\n",
    "Import the required libraries"
   ]
  },
  {
   "cell_type": "code",
   "execution_count": 1,
   "id": "38a89074",
   "metadata": {},
   "outputs": [],
   "source": [
    "import numpy as np\n",
    "import pandas as pd\n",
    "import seaborn as sns\n",
    "import matplotlib.pyplot as plt"
   ]
  },
  {
   "cell_type": "markdown",
   "id": "ca7417d9",
   "metadata": {},
   "source": [
    "Let us initialize the required values ( we will use them later in the program)\n",
    "we will set the minimum marks to 40 to pass in a exam"
   ]
  },
  {
   "cell_type": "code",
   "execution_count": 2,
   "id": "adb6c78a",
   "metadata": {},
   "outputs": [],
   "source": [
    "passmark = 40"
   ]
  },
  {
   "cell_type": "markdown",
   "id": "f348522f",
   "metadata": {},
   "source": [
    "Let us read the data from the csv file"
   ]
  },
  {
   "cell_type": "code",
   "execution_count": 6,
   "id": "9ed70ee9",
   "metadata": {},
   "outputs": [],
   "source": [
    "df = pd.read_csv(\"StudentsPerformance.csv\")"
   ]
  },
  {
   "cell_type": "code",
   "execution_count": null,
   "id": "cdef9a4e",
   "metadata": {},
   "outputs": [],
   "source": []
  }
 ],
 "metadata": {
  "kernelspec": {
   "display_name": "Python 3 (ipykernel)",
   "language": "python",
   "name": "python3"
  },
  "language_info": {
   "codemirror_mode": {
    "name": "ipython",
    "version": 3
   },
   "file_extension": ".py",
   "mimetype": "text/x-python",
   "name": "python",
   "nbconvert_exporter": "python",
   "pygments_lexer": "ipython3",
   "version": "3.9.13"
  }
 },
 "nbformat": 4,
 "nbformat_minor": 5
}
